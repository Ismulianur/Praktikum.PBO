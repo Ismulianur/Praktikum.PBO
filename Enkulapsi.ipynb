{
  "nbformat": 4,
  "nbformat_minor": 0,
  "metadata": {
    "colab": {
      "provenance": [],
      "authorship_tag": "ABX9TyMe9Gjike0rrqu45HHO4zXN",
      "include_colab_link": true
    },
    "kernelspec": {
      "name": "python3",
      "display_name": "Python 3"
    },
    "language_info": {
      "name": "python"
    }
  },
  "cells": [
    {
      "cell_type": "markdown",
      "metadata": {
        "id": "view-in-github",
        "colab_type": "text"
      },
      "source": [
        "<a href=\"https://colab.research.google.com/github/Ismulianur/Praktikum.PBO/blob/main/Enkulapsi.ipynb\" target=\"_parent\"><img src=\"https://colab.research.google.com/assets/colab-badge.svg\" alt=\"Open In Colab\"/></a>"
      ]
    },
    {
      "cell_type": "code",
      "execution_count": 4,
      "metadata": {
        "colab": {
          "base_uri": "https://localhost:8080/"
        },
        "id": "epxX6Cokiicm",
        "outputId": "66cde375-389f-4058-ed60-cdc88e1d124e"
      },
      "outputs": [
        {
          "output_type": "stream",
          "name": "stdout",
          "text": [
            "30\n"
          ]
        }
      ],
      "source": [
        "class Protected:\n",
        "    def __init__(self):\n",
        "        self._age = 30  # Protected attribute\n",
        "\n",
        "class Subclass(Protected):\n",
        "    def display_age(self):\n",
        "        print(self._age)  # Accessible in subclass\n",
        "\n",
        "obj = Subclass()\n",
        "obj.display_age()"
      ]
    }
  ]
}