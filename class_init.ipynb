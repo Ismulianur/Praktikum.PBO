{
  "nbformat": 4,
  "nbformat_minor": 0,
  "metadata": {
    "colab": {
      "provenance": [],
      "authorship_tag": "ABX9TyPrA3OBMLOCC+PjKPQ0R/vp",
      "include_colab_link": true
    },
    "kernelspec": {
      "name": "python3",
      "display_name": "Python 3"
    },
    "language_info": {
      "name": "python"
    }
  },
  "cells": [
    {
      "cell_type": "markdown",
      "metadata": {
        "id": "view-in-github",
        "colab_type": "text"
      },
      "source": [
        "<a href=\"https://colab.research.google.com/github/Ismulianur/Praktikum.PBO/blob/main/class_init.ipynb\" target=\"_parent\"><img src=\"https://colab.research.google.com/assets/colab-badge.svg\" alt=\"Open In Colab\"/></a>"
      ]
    },
    {
      "cell_type": "code",
      "execution_count": 3,
      "metadata": {
        "colab": {
          "base_uri": "https://localhost:8080/"
        },
        "id": "vUtm1xKFVuqU",
        "outputId": "70d1352c-f920-457d-a0c4-c699fb81ca11"
      },
      "outputs": [
        {
          "output_type": "stream",
          "name": "stdout",
          "text": [
            "{'Buddy'} {3}\n"
          ]
        }
      ],
      "source": [
        "class dog:\n",
        "  def __init__(self,name,age):\n",
        "    self.name = name\n",
        "    self.age = age\n",
        "\n",
        "dog1 = dog(\"Buddy\",4)\n",
        "dog2 = dog(\"Jemmy\",3)\n",
        "print({dog1.name},{dog2.age})\n",
        "\n"
      ]
    }
  ]
}